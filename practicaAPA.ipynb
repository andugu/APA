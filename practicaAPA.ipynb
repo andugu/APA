{
  "nbformat": 4,
  "nbformat_minor": 0,
  "metadata": {
    "colab": {
      "name": "practicaAPA.ipynb",
      "provenance": [],
      "collapsed_sections": [],
      "include_colab_link": true
    },
    "kernelspec": {
      "name": "python3",
      "display_name": "Python 3"
    }
  },
  "cells": [
    {
      "cell_type": "markdown",
      "metadata": {
        "id": "view-in-github",
        "colab_type": "text"
      },
      "source": [
        "<a href=\"https://colab.research.google.com/github/andugu/APA-Laboratory/blob/main/practicaAPA.ipynb\" target=\"_parent\"><img src=\"https://colab.research.google.com/assets/colab-badge.svg\" alt=\"Open In Colab\"/></a>"
      ]
    },
    {
      "cell_type": "code",
      "metadata": {
        "id": "IhecNmwAbo2-"
      },
      "source": [
        "import pandas as pd \n",
        "import numpy as np\n",
        "import matplotlib.pyplot as plt \n",
        "from sklearn.cluster import KMeans\n",
        "from sklearn.pipeline import Pipeline\n",
        "from sklearn.pipeline import FeatureUnion \n",
        "from sklearn.preprocessing import OrdinalEncoder\n",
        "from sklearn.preprocessing import Normalizer\n",
        "from sklearn.impute import SimpleImputer\n",
        "from sklearn.base import BaseEstimator, TransformerMixin\n",
        "from sklearn.decomposition import PCA\n",
        "from sklearn.linear_model import LinearRegression\n",
        "from sklearn.tree import DecisionTreeRegressor\n",
        "from sklearn.metrics import mean_squared_error, mean_absolute_error\n",
        "from sklearn.model_selection import KFold\n",
        "from sklearn.ensemble import RandomForestRegressor\n",
        "from sklearn.feature_selection import RFECV\n",
        "\n",
        "# If running in local\n",
        "#%matplotlib notebook\n",
        "\n",
        "# If running in colab:\n",
        "%matplotlib inline\n",
        "\n",
        "class DataFrameSelector(BaseEstimator, TransformerMixin):\n",
        "    def __init__(self, attribute_names): \n",
        "        self.attribute_names = attribute_names\n",
        "    def fit(self, X, y=None):\n",
        "        return self\n",
        "    def transform(self, X):\n",
        "        return X[self.attribute_names].values"
      ],
      "execution_count": null,
      "outputs": []
    },
    {
      "cell_type": "code",
      "metadata": {
        "id": "u4wNXXeBcF-o"
      },
      "source": [
        "data = pd.read_csv('imports-85.data')\n",
        "# remove samples without price \n",
        "data = data[data['price'] != '?']\n",
        "# change ? for Nan\n",
        "data = data.replace('?', np.nan)\n",
        "\n"
      ],
      "execution_count": null,
      "outputs": []
    },
    {
      "cell_type": "markdown",
      "metadata": {
        "id": "qureECoFfmGN"
      },
      "source": [
        "# Preprocessing  \n",
        "\n",
        "1. Apply SimpleInputer to missing value OK \n",
        "2. Categorical -> numerical (OrdinalEncoder) OK \n",
        "3. Min max scaling OK \n",
        "4. Dimensionality reduction OK \n",
        "5. Outlier detection OK \n",
        "6. Feature extraction new features through transformation (x^2 log(x))\n",
        "7. Correction of serious skewness and/or kurtosis OK \n",
        "8. Parameter search (model testing)\n",
        "\n",
        "Falta: \n",
        "    - Documentació \n",
        "    - Model training \n",
        "\n",
        "**Add correlation table**\n",
        "\n",
        "## New features \n",
        "Horse power / consum \n",
        "\n"
      ]
    },
    {
      "cell_type": "code",
      "metadata": {
        "id": "HPMQ48cv0iKA"
      },
      "source": [
        "data['price']"
      ],
      "execution_count": null,
      "outputs": []
    },
    {
      "cell_type": "markdown",
      "metadata": {
        "id": "8KmrnerX03jL"
      },
      "source": [
        "Most points are below 20000"
      ]
    },
    {
      "cell_type": "code",
      "metadata": {
        "id": "AFQ784xM0KUk",
        "colab": {
          "base_uri": "https://localhost:8080/",
          "height": 320
        },
        "outputId": "48b6411e-7c18-4312-b020-dc2dd0b8fb17"
      },
      "source": [
        "pd.to_numeric(data['price']).hist(bins=50, figsize=(10, 5))\n",
        "plt.show()"
      ],
      "execution_count": null,
      "outputs": [
        {
          "output_type": "display_data",
          "data": {
            "image/png": "[encoded data removed]",
            "text/plain": [
              "<Figure size 720x360 with 1 Axes>"
            ]
          },
          "metadata": {
            "tags": [],
            "needs_background": "light"
          }
        }
      ]
    },
    {
      "cell_type": "code",
      "metadata": {
        "colab": {
          "base_uri": "https://localhost:8080/",
          "height": 265
        },
        "id": "73az3KAshJ7o",
        "outputId": "57b122af-9cd5-4e9d-f734-3c157e2d8f59"
      },
      "source": [
        "plt.boxplot(data['price'].astype(float))\n",
        "plt.show()"
      ],
      "execution_count": null,
      "outputs": [
        {
          "output_type": "display_data",
          "data": {
            "image/png": "[encoded data removed]",
            "text/plain": [
              "<Figure size 432x288 with 1 Axes>"
            ]
          },
          "metadata": {
            "tags": [],
            "needs_background": "light"
          }
        }
      ]
    },
    {
      "cell_type": "code",
      "metadata": {
        "id": "GQsp-4OBVVm5"
      },
      "source": [
        "data['price'].mean()\n",
        "data = data[data['price'].astype(float) < 30000]"
      ],
      "execution_count": null,
      "outputs": []
    },
    {
      "cell_type": "code",
      "metadata": {
        "id": "yaZkx259D1Zz",
        "colab": {
          "base_uri": "https://localhost:8080/",
          "height": 265
        },
        "outputId": "8e32b0b2-bbac-45d9-b90d-e241c900b514"
      },
      "source": [
        "plt.boxplot(data['price'].astype(float))\n",
        "plt.show()"
      ],
      "execution_count": null,
      "outputs": [
        {
          "output_type": "display_data",
          "data": {
            "image/png": "[encoded data removed]",
            "text/plain": [
              "<Figure size 432x288 with 1 Axes>"
            ]
          },
          "metadata": {
            "tags": [],
            "needs_background": "light"
          }
        }
      ]
    },
    {
      "cell_type": "code",
      "metadata": {
        "id": "E2HyUPRLFPgg"
      },
      "source": [
        "price = data['price'].astype(float)\n",
        "kmeans = KMeans()\n",
        "pred = kmeans.fit_predict(np.array(price).reshape(-1, 1))\n",
        "for i in range(8): \n",
        "    label = price[pred == i]\n",
        "    plt.scatter(np.arange(len(label)), price[pred == i])"
      ],
      "execution_count": null,
      "outputs": []
    },
    {
      "cell_type": "code",
      "metadata": {
        "id": "K64beDYnF7Vt"
      },
      "source": [
        "kmeans.cluster_centers_"
      ],
      "execution_count": null,
      "outputs": []
    },
    {
      "cell_type": "code",
      "metadata": {
        "id": "ez-NOUv8H0iy"
      },
      "source": [
        "data.head()"
      ],
      "execution_count": null,
      "outputs": []
    },
    {
      "cell_type": "code",
      "metadata": {
        "id": "_Q7sTIsX1Bws"
      },
      "source": [
        "data.describe()"
      ],
      "execution_count": null,
      "outputs": []
    },
    {
      "cell_type": "code",
      "metadata": {
        "id": "k4T2uAiL1DyB"
      },
      "source": [
        "data.hist(bins=50, figsize=(20, 15))\n",
        "plt.show()"
      ],
      "execution_count": null,
      "outputs": []
    },
    {
      "cell_type": "markdown",
      "metadata": {
        "id": "0QPNCRqiHkha"
      },
      "source": [
        "8. Missing Attribute Values: (denoted by \"?\")\n",
        "   Attribute #:   Number of instances missing a value:\n",
        "   2.             41\n",
        "   6.             2\n",
        "   19.            4\n",
        "   20.            4\n",
        "   22.            2\n",
        "   23.            2\n",
        "   26.            4"
      ]
    },
    {
      "cell_type": "code",
      "metadata": {
        "id": "C8i-XRDImTIL"
      },
      "source": [
        "categorical_features = ['make', 'fuel-type', 'aspiration', \n",
        "                        'num-of-doors', 'body-style', \n",
        "                        'drive-wheels', 'engine-location', \n",
        "                        'fuel-system', 'engine-type', \n",
        "                        'num-of-cylinders']\n",
        "\n",
        "prediction_col = 'price'\n",
        "numerical_features = [col for col in data.columns if not col in categorical_features][:-1]\n",
        "\n",
        "\n",
        "categorical_pipeline = Pipeline([('DataframeSelector', DataFrameSelector(categorical_features)), \n",
        "                                 ('Inputer', SimpleImputer(strategy='most_frequent')),\n",
        "                                 ('OrdinalEncoder', OrdinalEncoder()), \n",
        "                                 ('MinMaxScaling', Normalizer())])\n",
        "\n",
        "numerical_pipeline = Pipeline([ ('DataframeSelector', DataFrameSelector(numerical_features)), \n",
        "                                ('Inputer', SimpleImputer()),\n",
        "                                ('MinMaxScaling', Normalizer())])\n",
        "\n",
        "full_pipeline = FeatureUnion(transformer_list=[\n",
        "                            ('num_pipeline', numerical_pipeline),\n",
        "                            ('cat_pipeline', categorical_pipeline)\n",
        "])"
      ],
      "execution_count": null,
      "outputs": []
    },
    {
      "cell_type": "code",
      "metadata": {
        "id": "HrebVDLvxtSg",
        "colab": {
          "base_uri": "https://localhost:8080/"
        },
        "outputId": "abf63552-cf48-42d8-a373-dfa643f389e3"
      },
      "source": [
        "data.columns "
      ],
      "execution_count": null,
      "outputs": [
        {
          "output_type": "execute_result",
          "data": {
            "text/plain": [
              "Index(['symboling', 'normalized-losses', 'make', 'fuel-type', 'aspiration',\n",
              "       'num-of-doors', 'body-style', 'drive-wheels', 'engine-location',\n",
              "       'wheel-base', 'length', 'width', 'height', 'curb-weight', 'engine-type',\n",
              "       'num-of-cylinders', 'engine-size', 'fuel-system', 'bore', 'stroke',\n",
              "       'compression-ratio', 'horsepower', 'peak-rpm', 'city-mpg',\n",
              "       'highway-mpg', 'price'],\n",
              "      dtype='object')"
            ]
          },
          "metadata": {
            "tags": []
          },
          "execution_count": 89
        }
      ]
    },
    {
      "cell_type": "code",
      "metadata": {
        "id": "NB4I0RIjrpQc"
      },
      "source": [
        "X = np.array(full_pipeline.fit_transform(data))\n",
        "y = np.array(data[prediction_col].astype(float))"
      ],
      "execution_count": null,
      "outputs": []
    },
    {
      "cell_type": "code",
      "metadata": {
        "id": "HjVDeYpbyf1r"
      },
      "source": [
        "numerical_features"
      ],
      "execution_count": null,
      "outputs": []
    },
    {
      "cell_type": "code",
      "metadata": {
        "id": "ac2VDq0oykCc"
      },
      "source": [
        "data.corr()"
      ],
      "execution_count": null,
      "outputs": []
    },
    {
      "cell_type": "code",
      "metadata": {
        "id": "eIat_-3AjegK"
      },
      "source": [
        "f = plt.figure(figsize=(19, 15))\n",
        "plt.matshow(data.corr(), fignum=f.number)\n",
        "plt.xticks(range(data.shape[1]), data.columns, fontsize=14, rotation=45)\n",
        "plt.yticks(range(data.shape[1]), data.columns, fontsize=14)\n",
        "cb = plt.colorbar()\n",
        "cb.ax.tick_params(labelsize=14)\n",
        "plt.title('Correlation Matrix', fontsize=16);"
      ],
      "execution_count": null,
      "outputs": []
    },
    {
      "cell_type": "code",
      "metadata": {
        "id": "mCN1NHPKIizW"
      },
      "source": [
        "\n",
        "kmeans = KMeans()\n",
        "pred = kmeans.fit_predict(data)\n",
        "for i in range(8): \n",
        "    label = data[pred == i][-1]\n",
        "    plt.scatter(np.arange(len(label)), label)\n",
        "\n",
        "plt.show()"
      ],
      "execution_count": null,
      "outputs": []
    },
    {
      "cell_type": "code",
      "metadata": {
        "colab": {
          "base_uri": "https://localhost:8080/"
        },
        "id": "NI98acK9SLfI",
        "outputId": "8caab47d-b8b0-453c-ec1f-e855fdec797b"
      },
      "source": [
        "X"
      ],
      "execution_count": null,
      "outputs": [
        {
          "output_type": "execute_result",
          "data": {
            "text/plain": [
              "array([[ 5.33840604e-04,  2.17095179e-02,  1.57660925e-02, ...,\n",
              "         8.45154255e-01,  0.00000000e+00,  3.38061702e-01],\n",
              "       [ 5.33840604e-04,  2.17095179e-02,  1.57660925e-02, ...,\n",
              "         8.45154255e-01,  0.00000000e+00,  3.38061702e-01],\n",
              "       [ 1.73873745e-04,  2.12125969e-02,  1.64310689e-02, ...,\n",
              "         6.45497224e-01,  5.16397779e-01,  3.87298335e-01],\n",
              "       ...,\n",
              "       [-1.59241761e-04,  1.51279673e-02,  1.73732762e-02, ...,\n",
              "         2.22497080e-01,  1.77997664e-01,  1.33498248e-01],\n",
              "       [-1.72805396e-04,  1.64165126e-02,  1.88530687e-02, ...,\n",
              "         1.37360564e-01,  9.15737093e-02,  1.37360564e-01],\n",
              "       [-1.60884390e-04,  1.52840170e-02,  1.75524869e-02, ...,\n",
              "         2.26107816e-01,  9.04431263e-02,  9.04431263e-02]])"
            ]
          },
          "metadata": {
            "tags": []
          },
          "execution_count": 115
        }
      ]
    },
    {
      "cell_type": "code",
      "metadata": {
        "colab": {
          "base_uri": "https://localhost:8080/"
        },
        "id": "eJ969bN4Sdfl",
        "outputId": "07b24adb-46b6-4eef-c721-d3dc1e3b0fa6"
      },
      "source": [
        "print(X.shape)\n",
        "print(y.shape)"
      ],
      "execution_count": null,
      "outputs": [
        {
          "output_type": "stream",
          "text": [
            "(201, 25)\n",
            "(201,)\n"
          ],
          "name": "stdout"
        }
      ]
    },
    {
      "cell_type": "code",
      "metadata": {
        "id": "cLMkGVX_XVvi"
      },
      "source": [
        ""
      ],
      "execution_count": null,
      "outputs": []
    },
    {
      "cell_type": "markdown",
      "metadata": {
        "id": "NEkjiO5GXWNv"
      },
      "source": [
        "# Model training"
      ]
    },
    {
      "cell_type": "code",
      "metadata": {
        "colab": {
          "base_uri": "https://localhost:8080/"
        },
        "id": "1Pub2YsLcEVV",
        "outputId": "31048e1a-af54-4b91-978a-9b67546ecba0"
      },
      "source": [
        "model = RandomForestRegressor(max_depth=2)\n",
        "selector = RFECV(model, step=1, cv=10, scoring='neg_mean_squared_error', n_jobs=4)\n",
        "selector.fit(X, y)\n",
        "selector.ranking_"
      ],
      "execution_count": null,
      "outputs": [
        {
          "output_type": "execute_result",
          "data": {
            "text/plain": [
              "array([22, 21, 10, 18, 20, 16,  2,  1, 17, 13, 12,  1,  1,  3,  1, 14,  8,\n",
              "        4, 15,  9,  6, 19,  5, 11,  7])"
            ]
          },
          "metadata": {
            "tags": []
          },
          "execution_count": 248
        }
      ]
    },
    {
      "cell_type": "code",
      "metadata": {
        "colab": {
          "base_uri": "https://localhost:8080/"
        },
        "id": "DP1rY8XPdTQw",
        "outputId": "a211e5ce-e93b-4660-8c4d-0643812ae445"
      },
      "source": [
        "selector.ranking_ == 1"
      ],
      "execution_count": null,
      "outputs": [
        {
          "output_type": "execute_result",
          "data": {
            "text/plain": [
              "array([False, False, False, False, False, False,  True,  True, False,\n",
              "       False, False,  True,  True,  True,  True, False, False, False,\n",
              "       False, False, False, False, False, False, False])"
            ]
          },
          "metadata": {
            "tags": []
          },
          "execution_count": 218
        }
      ]
    },
    {
      "cell_type": "code",
      "metadata": {
        "colab": {
          "base_uri": "https://localhost:8080/"
        },
        "id": "yX2FnDf0RB4T",
        "outputId": "4721a561-c7ea-4122-bb94-5e8df8890150"
      },
      "source": [
        "kf = KFold(n_splits=10, shuffle=True)\n",
        "model = RandomForestRegressor(max_depth=2)\n",
        "X_data = np.array(X)[:, selector.ranking_ < 5]\n",
        "y_data = np.array(y)\n",
        "errors_train = []\n",
        "errors_test = []\n",
        "for train_index, test_index in kf.split(X_data):\n",
        "    model.fit(X_data[train_index], y_data[train_index])\n",
        "    y_train_pred = model.predict(X_data[train_index])\n",
        "    y_test_pred = model.predict(X_data[test_index])\n",
        "    errors_train.append(mean_absolute_error(y_data[train_index], y_train_pred))\n",
        "    errors_test.append(mean_absolute_error(y_data[test_index], y_test_pred))\n",
        "    print('Train error:', mean_absolute_error(y_data[train_index], y_train_pred))\n",
        "    print('Test error:', mean_absolute_error(y_data[test_index], y_test_pred))"
      ],
      "execution_count": null,
      "outputs": [
        {
          "output_type": "stream",
          "text": [
            "Train error: 1622.9877327409845\n",
            "Test error: 1788.1091743442191\n",
            "Train error: 1702.4866726176274\n",
            "Test error: 1754.2086490739105\n",
            "Train error: 1681.5508277402473\n",
            "Test error: 1326.7234178767087\n",
            "Train error: 1573.4019766317394\n",
            "Test error: 2891.692102690392\n",
            "Train error: 1593.689949406324\n",
            "Test error: 2244.930841982939\n",
            "Train error: 1613.356609183623\n",
            "Test error: 2187.5067688345916\n",
            "Train error: 1640.3246298538627\n",
            "Test error: 1675.9933660182403\n",
            "Train error: 1631.713532411078\n",
            "Test error: 1887.7030624820165\n",
            "Train error: 1687.8952907163825\n",
            "Test error: 1821.1521874020534\n",
            "Train error: 1652.7256645194768\n",
            "Test error: 1651.7615868527585\n"
          ],
          "name": "stdout"
        }
      ]
    },
    {
      "cell_type": "code",
      "metadata": {
        "colab": {
          "base_uri": "https://localhost:8080/"
        },
        "id": "nCRLb8B0SCBL",
        "outputId": "9309b6b6-5f11-4c7a-80a3-43129a62d86f"
      },
      "source": [
        "print('Train mean:', np.array(errors_train).mean())\n",
        "print('Test mean:', np.array(errors_test).mean())"
      ],
      "execution_count": null,
      "outputs": [
        {
          "output_type": "stream",
          "text": [
            "Train mean: 1640.0132885821345\n",
            "Test mean: 1922.9781157557832\n"
          ],
          "name": "stdout"
        }
      ]
    },
    {
      "cell_type": "code",
      "metadata": {
        "colab": {
          "base_uri": "https://localhost:8080/",
          "height": 265
        },
        "id": "lyIiiFwtazjA",
        "outputId": "b219a8de-3de0-45c6-a6af-3e05b04e40ec"
      },
      "source": [
        "plt.plot(y_data, y_data)\n",
        "plt.plot(y_data, model.predict(X_data), '.')\n",
        "\n",
        "plt.show()"
      ],
      "execution_count": null,
      "outputs": [
        {
          "output_type": "display_data",
          "data": {
            "image/png": "[encoded data removed]",
            "text/plain": [
              "<Figure size 432x288 with 1 Axes>"
            ]
          },
          "metadata": {
            "tags": [],
            "needs_background": "light"
          }
        }
      ]
    },
    {
      "cell_type": "markdown",
      "metadata": {
        "id": "7ZgbdBN7iWmV"
      },
      "source": [
        "Nota: la distribution tiene forma normal pero no esta centrada en el cero => hace predicciones de numeros mas grandes"
      ]
    },
    {
      "cell_type": "code",
      "metadata": {
        "colab": {
          "base_uri": "https://localhost:8080/",
          "height": 265
        },
        "id": "OuD8ECHRSB7B",
        "outputId": "f575a0b0-53d7-4584-deb1-c92bc6cea4c5"
      },
      "source": [
        "plt.hist(y_data - model.predict(X_data))\n",
        "plt.show()"
      ],
      "execution_count": null,
      "outputs": [
        {
          "output_type": "display_data",
          "data": {
            "image/png": "[encoded data removed]",
            "text/plain": [
              "<Figure size 432x288 with 1 Axes>"
            ]
          },
          "metadata": {
            "tags": [],
            "needs_background": "light"
          }
        }
      ]
    },
    {
      "cell_type": "code",
      "metadata": {
        "id": "Osuw0rvhO7aI",
        "colab": {
          "base_uri": "https://localhost:8080/"
        },
        "outputId": "828981fd-d5d9-42bb-e0ca-e0dcbaf65c36"
      },
      "source": [
        "numerical_features + categorical_features"
      ],
      "execution_count": null,
      "outputs": [
        {
          "output_type": "execute_result",
          "data": {
            "text/plain": [
              "['symboling',\n",
              " 'normalized-losses',\n",
              " 'wheel-base',\n",
              " 'length',\n",
              " 'width',\n",
              " 'height',\n",
              " 'curb-weight',\n",
              " 'engine-size',\n",
              " 'bore',\n",
              " 'stroke',\n",
              " 'compression-ratio',\n",
              " 'horsepower',\n",
              " 'peak-rpm',\n",
              " 'city-mpg',\n",
              " 'highway-mpg',\n",
              " 'make',\n",
              " 'fuel-type',\n",
              " 'aspiration',\n",
              " 'num-of-doors',\n",
              " 'body-style',\n",
              " 'drive-wheels',\n",
              " 'engine-location',\n",
              " 'fuel-system',\n",
              " 'engine-type',\n",
              " 'num-of-cylinders']"
            ]
          },
          "metadata": {
            "tags": []
          },
          "execution_count": 180
        }
      ]
    },
    {
      "cell_type": "code",
      "metadata": {
        "colab": {
          "base_uri": "https://localhost:8080/"
        },
        "id": "7DJQEbw0QpSF",
        "outputId": "6231bd87-9c50-471a-fa1c-12f5e4b30d15"
      },
      "source": [
        "import sklearn\n",
        "sorted(sklearn.metrics.SCORERS.keys())"
      ],
      "execution_count": null,
      "outputs": [
        {
          "output_type": "execute_result",
          "data": {
            "text/plain": [
              "['accuracy',\n",
              " 'adjusted_mutual_info_score',\n",
              " 'adjusted_rand_score',\n",
              " 'average_precision',\n",
              " 'balanced_accuracy',\n",
              " 'completeness_score',\n",
              " 'explained_variance',\n",
              " 'f1',\n",
              " 'f1_macro',\n",
              " 'f1_micro',\n",
              " 'f1_samples',\n",
              " 'f1_weighted',\n",
              " 'fowlkes_mallows_score',\n",
              " 'homogeneity_score',\n",
              " 'jaccard',\n",
              " 'jaccard_macro',\n",
              " 'jaccard_micro',\n",
              " 'jaccard_samples',\n",
              " 'jaccard_weighted',\n",
              " 'max_error',\n",
              " 'mutual_info_score',\n",
              " 'neg_brier_score',\n",
              " 'neg_log_loss',\n",
              " 'neg_mean_absolute_error',\n",
              " 'neg_mean_gamma_deviance',\n",
              " 'neg_mean_poisson_deviance',\n",
              " 'neg_mean_squared_error',\n",
              " 'neg_mean_squared_log_error',\n",
              " 'neg_median_absolute_error',\n",
              " 'neg_root_mean_squared_error',\n",
              " 'normalized_mutual_info_score',\n",
              " 'precision',\n",
              " 'precision_macro',\n",
              " 'precision_micro',\n",
              " 'precision_samples',\n",
              " 'precision_weighted',\n",
              " 'r2',\n",
              " 'recall',\n",
              " 'recall_macro',\n",
              " 'recall_micro',\n",
              " 'recall_samples',\n",
              " 'recall_weighted',\n",
              " 'roc_auc',\n",
              " 'roc_auc_ovo',\n",
              " 'roc_auc_ovo_weighted',\n",
              " 'roc_auc_ovr',\n",
              " 'roc_auc_ovr_weighted',\n",
              " 'v_measure_score']"
            ]
          },
          "metadata": {
            "tags": []
          },
          "execution_count": 191
        }
      ]
    },
    {
      "cell_type": "code",
      "metadata": {
        "id": "lIpEP-vSQt-k"
      },
      "source": [
        ""
      ],
      "execution_count": null,
      "outputs": []
    }
  ]
}