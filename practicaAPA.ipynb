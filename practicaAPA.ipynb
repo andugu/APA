{
  "nbformat": 4,
  "nbformat_minor": 0,
  "metadata": {
    "colab": {
      "name": "practicaAPA.ipynb",
      "provenance": [],
      "collapsed_sections": [],
      "toc_visible": true,
      "include_colab_link": true
    },
    "kernelspec": {
      "name": "python3",
      "display_name": "Python 3"
    }
  },
  "cells": [
    {
      "cell_type": "markdown",
      "metadata": {
        "id": "view-in-github",
        "colab_type": "text"
      },
      "source": [
        "<a href=\"https://colab.research.google.com/github/andugu/APA-Laboratory/blob/main/practicaAPA.ipynb\" target=\"_parent\"><img src=\"https://colab.research.google.com/assets/colab-badge.svg\" alt=\"Open In Colab\"/></a>"
      ]
    },
    {
      "cell_type": "code",
      "metadata": {
        "id": "IhecNmwAbo2-"
      },
      "source": [
        "import pandas as pd \n",
        "import numpy as np\n",
        "import matplotlib.pyplot as plt \n",
        "from sklearn.cluster import KMeans\n",
        "from sklearn.pipeline import Pipeline\n",
        "from sklearn.pipeline import FeatureUnion \n",
        "from sklearn.preprocessing import OrdinalEncoder\n",
        "from sklearn.preprocessing import MinMaxScaler\n",
        "from sklearn.impute import SimpleImputer\n",
        "from sklearn.base import BaseEstimator, TransformerMixin\n",
        "from sklearn.decomposition import PCA\n",
        "from sklearn.linear_model import LinearRegression\n",
        "from sklearn.tree import DecisionTreeRegressor\n",
        "from sklearn.metrics import mean_squared_error, mean_absolute_error\n",
        "from sklearn.model_selection import KFold\n",
        "from sklearn.neighbors import KNeighborsRegressor\n",
        "from sklearn.svm import LinearSVR\n",
        "from sklearn.ensemble import RandomForestRegressor\n",
        "from sklearn.neural_network import MLPRegressor\n",
        "from sklearn.feature_selection import RFECV\n",
        "from sklearn.model_selection import GridSearchCV\n",
        "\n",
        "# If running in local\n",
        "#%matplotlib notebook\n",
        "\n",
        "# If running in colab:\n",
        "%matplotlib inline\n",
        "\n",
        "class DataFrameSelector(BaseEstimator, TransformerMixin):\n",
        "    def __init__(self, attribute_names): \n",
        "        self.attribute_names = attribute_names\n",
        "    def fit(self, X, y=None):\n",
        "        return self\n",
        "    def transform(self, X):\n",
        "        return X[self.attribute_names].values"
      ],
      "execution_count": 163,
      "outputs": []
    },
    {
      "cell_type": "code",
      "metadata": {
        "id": "u4wNXXeBcF-o"
      },
      "source": [
        "data = pd.read_csv('imports-85.data')\n",
        "# remove samples without price \n",
        "data = data[data['price'] != '?']\n",
        "# change ? for Nan\n",
        "data = data.replace('?', np.nan)\n",
        "\n"
      ],
      "execution_count": 144,
      "outputs": []
    },
    {
      "cell_type": "markdown",
      "metadata": {
        "id": "qureECoFfmGN"
      },
      "source": [
        "# Preprocessing  \n",
        "\n",
        "1. Apply SimpleInputer to missing value OK \n",
        "2. Categorical -> numerical (OrdinalEncoder) OK \n",
        "3. Min max scaling OK \n",
        "4. Dimensionality reduction OK \n",
        "5. Outlier detection OK \n",
        "6. Feature extraction new features through transformation (x^2 log(x))\n",
        "7. Correction of serious skewness and/or kurtosis OK \n",
        "8. Parameter search (model testing)\n",
        "\n",
        "Falta: \n",
        "    - Documentació \n",
        "    - Model training \n",
        "\n",
        "Linear models:\n",
        "    Linear Regression, KNN, Linear SVM \n",
        "\n",
        "Non-Linear models: \n",
        "    MLP, RandomForest  \n",
        "\n",
        "**Add correlation table**\n",
        "\n",
        "## New features \n",
        "Horse power / consum \n",
        "\n"
      ]
    },
    {
      "cell_type": "code",
      "metadata": {
        "id": "HPMQ48cv0iKA"
      },
      "source": [
        "data['price']"
      ],
      "execution_count": null,
      "outputs": []
    },
    {
      "cell_type": "markdown",
      "metadata": {
        "id": "8KmrnerX03jL"
      },
      "source": [
        "Most points are below 20000"
      ]
    },
    {
      "cell_type": "code",
      "metadata": {
        "id": "AFQ784xM0KUk",
        "colab": {
          "base_uri": "https://localhost:8080/",
          "height": 320
        },
        "outputId": "48b6411e-7c18-4312-b020-dc2dd0b8fb17"
      },
      "source": [
        "pd.to_numeric(data['price']).hist(bins=50, figsize=(10, 5))\n",
        "plt.show()"
      ],
      "execution_count": null,
      "outputs": [
        {
          "output_type": "display_data",
          "data": {
            "image/png": "[encoded data removed]",
            "text/plain": [
              "<Figure size 720x360 with 1 Axes>"
            ]
          },
          "metadata": {
            "tags": [],
            "needs_background": "light"
          }
        }
      ]
    },
    {
      "cell_type": "code",
      "metadata": {
        "colab": {
          "base_uri": "https://localhost:8080/",
          "height": 265
        },
        "id": "73az3KAshJ7o",
        "outputId": "57b122af-9cd5-4e9d-f734-3c157e2d8f59"
      },
      "source": [
        "plt.boxplot(data['price'].astype(float))\n",
        "plt.show()"
      ],
      "execution_count": null,
      "outputs": [
        {
          "output_type": "display_data",
          "data": {
            "image/png": "[encoded data removed]",
            "text/plain": [
              "<Figure size 432x288 with 1 Axes>"
            ]
          },
          "metadata": {
            "tags": [],
            "needs_background": "light"
          }
        }
      ]
    },
    {
      "cell_type": "code",
      "metadata": {
        "colab": {
          "base_uri": "https://localhost:8080/"
        },
        "id": "fvKYXvYq1lq3",
        "outputId": "5dc6a1dd-0c0e-4c7f-94d3-cff7e85f88c4"
      },
      "source": [
        "3000 / y.mean()"
      ],
      "execution_count": 250,
      "outputs": [
        {
          "output_type": "execute_result",
          "data": {
            "text/plain": [
              "0.2271500429626242"
            ]
          },
          "metadata": {
            "tags": []
          },
          "execution_count": 250
        }
      ]
    },
    {
      "cell_type": "code",
      "metadata": {
        "id": "GQsp-4OBVVm5"
      },
      "source": [
        "data['price'].mean()\n",
        "data = data[data['price'].astype(float) < 30000]"
      ],
      "execution_count": 16,
      "outputs": []
    },
    {
      "cell_type": "markdown",
      "metadata": {
        "id": "oVakhRg7efj6"
      },
      "source": [
        ""
      ]
    },
    {
      "cell_type": "code",
      "metadata": {
        "id": "yaZkx259D1Zz",
        "colab": {
          "base_uri": "https://localhost:8080/",
          "height": 265
        },
        "outputId": "dcb48b56-dabb-48dc-bd4c-39a84b295c2a"
      },
      "source": [
        "plt.boxplot(data['price'].astype(float))\n",
        "plt.show()"
      ],
      "execution_count": 17,
      "outputs": [
        {
          "output_type": "display_data",
          "data": {
            "image/png": "[encoded data removed]",
            "text/plain": [
              "<Figure size 432x288 with 1 Axes>"
            ]
          },
          "metadata": {
            "tags": [],
            "needs_background": "light"
          }
        }
      ]
    },
    {
      "cell_type": "code",
      "metadata": {
        "id": "E2HyUPRLFPgg"
      },
      "source": [
        "price = data['price'].astype(float)\n",
        "kmeans = KMeans()\n",
        "pred = kmeans.fit_predict(np.array(price).reshape(-1, 1))\n",
        "for i in range(8): \n",
        "    label = price[pred == i]\n",
        "    plt.scatter(np.arange(len(label)), price[pred == i])"
      ],
      "execution_count": null,
      "outputs": []
    },
    {
      "cell_type": "code",
      "metadata": {
        "id": "K64beDYnF7Vt"
      },
      "source": [
        "kmeans.cluster_centers_"
      ],
      "execution_count": null,
      "outputs": []
    },
    {
      "cell_type": "code",
      "metadata": {
        "id": "ez-NOUv8H0iy"
      },
      "source": [
        "data.head()"
      ],
      "execution_count": null,
      "outputs": []
    },
    {
      "cell_type": "code",
      "metadata": {
        "id": "_Q7sTIsX1Bws"
      },
      "source": [
        "data.describe()"
      ],
      "execution_count": null,
      "outputs": []
    },
    {
      "cell_type": "code",
      "metadata": {
        "id": "k4T2uAiL1DyB"
      },
      "source": [
        "data.hist(bins=50, figsize=(20, 15))\n",
        "plt.show()"
      ],
      "execution_count": null,
      "outputs": []
    },
    {
      "cell_type": "markdown",
      "metadata": {
        "id": "0QPNCRqiHkha"
      },
      "source": [
        "8. Missing Attribute Values: (denoted by \"?\")\n",
        "   Attribute #:   Number of instances missing a value:\n",
        "   2.             41\n",
        "   6.             2\n",
        "   19.            4\n",
        "   20.            4\n",
        "   22.            2\n",
        "   23.            2\n",
        "   26.            4"
      ]
    },
    {
      "cell_type": "code",
      "metadata": {
        "id": "C8i-XRDImTIL"
      },
      "source": [
        "categorical_features = ['make', 'fuel-type', 'aspiration', \n",
        "                        'num-of-doors', 'body-style', \n",
        "                        'drive-wheels', 'engine-location', \n",
        "                        'fuel-system', 'engine-type', \n",
        "                        'num-of-cylinders']\n",
        "\n",
        "prediction_col = 'price'\n",
        "numerical_features = [col for col in data.columns if not col in categorical_features][:-1]\n",
        "\n",
        "all_features = numerical_features + categorical_features\n",
        "\n",
        "\n",
        "categorical_pipeline = Pipeline([('DataframeSelector', DataFrameSelector(categorical_features)), \n",
        "                                 ('Inputer', SimpleImputer(strategy='most_frequent')),\n",
        "                                 ('OrdinalEncoder', OrdinalEncoder()), \n",
        "                                 ('MinMaxScaling', MinMaxScaler())])\n",
        "\n",
        "numerical_pipeline = Pipeline([ ('DataframeSelector', DataFrameSelector(numerical_features)), \n",
        "                                ('Inputer', SimpleImputer()),\n",
        "                                ('MinMaxScaling', MinMaxScaler())])\n",
        "\n",
        "full_pipeline = FeatureUnion(transformer_list=[\n",
        "                            ('num_pipeline', numerical_pipeline),\n",
        "                            ('cat_pipeline', categorical_pipeline)\n",
        "])"
      ],
      "execution_count": 145,
      "outputs": []
    },
    {
      "cell_type": "code",
      "metadata": {
        "colab": {
          "base_uri": "https://localhost:8080/"
        },
        "id": "cRJXFcHTcmsY",
        "outputId": "6e167eda-3dcb-47a7-b8f8-ad474d60db22"
      },
      "source": [
        "all_features"
      ],
      "execution_count": 146,
      "outputs": [
        {
          "output_type": "execute_result",
          "data": {
            "text/plain": [
              "['symboling',\n",
              " 'normalized-losses',\n",
              " 'wheel-base',\n",
              " 'length',\n",
              " 'width',\n",
              " 'height',\n",
              " 'curb-weight',\n",
              " 'engine-size',\n",
              " 'bore',\n",
              " 'stroke',\n",
              " 'compression-ratio',\n",
              " 'horsepower',\n",
              " 'peak-rpm',\n",
              " 'city-mpg',\n",
              " 'highway-mpg',\n",
              " 'make',\n",
              " 'fuel-type',\n",
              " 'aspiration',\n",
              " 'num-of-doors',\n",
              " 'body-style',\n",
              " 'drive-wheels',\n",
              " 'engine-location',\n",
              " 'fuel-system',\n",
              " 'engine-type',\n",
              " 'num-of-cylinders']"
            ]
          },
          "metadata": {
            "tags": []
          },
          "execution_count": 146
        }
      ]
    },
    {
      "cell_type": "code",
      "metadata": {
        "id": "HrebVDLvxtSg",
        "colab": {
          "base_uri": "https://localhost:8080/"
        },
        "outputId": "5241cd97-e02e-49af-ba95-6ce92f41bd0d"
      },
      "source": [
        "data.columns "
      ],
      "execution_count": 147,
      "outputs": [
        {
          "output_type": "execute_result",
          "data": {
            "text/plain": [
              "Index(['symboling', 'normalized-losses', 'make', 'fuel-type', 'aspiration',\n",
              "       'num-of-doors', 'body-style', 'drive-wheels', 'engine-location',\n",
              "       'wheel-base', 'length', 'width', 'height', 'curb-weight', 'engine-type',\n",
              "       'num-of-cylinders', 'engine-size', 'fuel-system', 'bore', 'stroke',\n",
              "       'compression-ratio', 'horsepower', 'peak-rpm', 'city-mpg',\n",
              "       'highway-mpg', 'price'],\n",
              "      dtype='object')"
            ]
          },
          "metadata": {
            "tags": []
          },
          "execution_count": 147
        }
      ]
    },
    {
      "cell_type": "code",
      "metadata": {
        "id": "NB4I0RIjrpQc"
      },
      "source": [
        "X = np.array(full_pipeline.fit_transform(data))\n",
        "y = np.array(data[prediction_col].astype(float))"
      ],
      "execution_count": 148,
      "outputs": []
    },
    {
      "cell_type": "code",
      "metadata": {
        "id": "HjVDeYpbyf1r"
      },
      "source": [
        "numerical_features"
      ],
      "execution_count": null,
      "outputs": []
    },
    {
      "cell_type": "code",
      "metadata": {
        "id": "ac2VDq0oykCc"
      },
      "source": [
        "data.corr()"
      ],
      "execution_count": null,
      "outputs": []
    },
    {
      "cell_type": "code",
      "metadata": {
        "id": "eIat_-3AjegK"
      },
      "source": [
        "f = plt.figure(figsize=(19, 15))\n",
        "plt.matshow(data.corr(), fignum=f.number)\n",
        "plt.xticks(range(data.shape[1]), data.columns, fontsize=14, rotation=45)\n",
        "plt.yticks(range(data.shape[1]), data.columns, fontsize=14)\n",
        "cb = plt.colorbar()\n",
        "cb.ax.tick_params(labelsize=14)\n",
        "plt.title('Correlation Matrix', fontsize=16);"
      ],
      "execution_count": null,
      "outputs": []
    },
    {
      "cell_type": "code",
      "metadata": {
        "id": "mCN1NHPKIizW"
      },
      "source": [
        "\n",
        "kmeans = KMeans()\n",
        "pred = kmeans.fit_predict(data)\n",
        "for i in range(8): \n",
        "    label = data[pred == i][-1]\n",
        "    plt.scatter(np.arange(len(label)), label)\n",
        "\n",
        "plt.show()"
      ],
      "execution_count": null,
      "outputs": []
    },
    {
      "cell_type": "code",
      "metadata": {
        "colab": {
          "base_uri": "https://localhost:8080/"
        },
        "id": "NI98acK9SLfI",
        "outputId": "8caab47d-b8b0-453c-ec1f-e855fdec797b"
      },
      "source": [
        "X"
      ],
      "execution_count": null,
      "outputs": [
        {
          "output_type": "execute_result",
          "data": {
            "text/plain": [
              "array([[ 5.33840604e-04,  2.17095179e-02,  1.57660925e-02, ...,\n",
              "         8.45154255e-01,  0.00000000e+00,  3.38061702e-01],\n",
              "       [ 5.33840604e-04,  2.17095179e-02,  1.57660925e-02, ...,\n",
              "         8.45154255e-01,  0.00000000e+00,  3.38061702e-01],\n",
              "       [ 1.73873745e-04,  2.12125969e-02,  1.64310689e-02, ...,\n",
              "         6.45497224e-01,  5.16397779e-01,  3.87298335e-01],\n",
              "       ...,\n",
              "       [-1.59241761e-04,  1.51279673e-02,  1.73732762e-02, ...,\n",
              "         2.22497080e-01,  1.77997664e-01,  1.33498248e-01],\n",
              "       [-1.72805396e-04,  1.64165126e-02,  1.88530687e-02, ...,\n",
              "         1.37360564e-01,  9.15737093e-02,  1.37360564e-01],\n",
              "       [-1.60884390e-04,  1.52840170e-02,  1.75524869e-02, ...,\n",
              "         2.26107816e-01,  9.04431263e-02,  9.04431263e-02]])"
            ]
          },
          "metadata": {
            "tags": []
          },
          "execution_count": 115
        }
      ]
    },
    {
      "cell_type": "code",
      "metadata": {
        "colab": {
          "base_uri": "https://localhost:8080/"
        },
        "id": "eJ969bN4Sdfl",
        "outputId": "b5291f06-66ee-46de-91aa-f1d866eb4a41"
      },
      "source": [
        "print(X.shape)\n",
        "print(y.shape)"
      ],
      "execution_count": 122,
      "outputs": [
        {
          "output_type": "stream",
          "text": [
            "(201, 25)\n",
            "(201,)\n"
          ],
          "name": "stdout"
        }
      ]
    },
    {
      "cell_type": "code",
      "metadata": {
        "id": "cLMkGVX_XVvi",
        "colab": {
          "base_uri": "https://localhost:8080/"
        },
        "outputId": "859d95a9-1d1a-43d3-8a2b-4216f715ccf3"
      },
      "source": [
        "pca = PCA(n_components=3)\n",
        "pca.fit(X)\n",
        "pca.explained_variance_ratio_"
      ],
      "execution_count": 157,
      "outputs": [
        {
          "output_type": "execute_result",
          "data": {
            "text/plain": [
              "array([0.28414794, 0.2081375 , 0.13753728])"
            ]
          },
          "metadata": {
            "tags": []
          },
          "execution_count": 157
        }
      ]
    },
    {
      "cell_type": "markdown",
      "metadata": {
        "id": "N0cASBhpSA47"
      },
      "source": [
        "## Training"
      ]
    },
    {
      "cell_type": "code",
      "metadata": {
        "id": "4PI0ruaWSpu3"
      },
      "source": [
        "def train_model(model, X, y, k=5):\n",
        "    history = {} \n",
        "\n",
        "    # KFOLD Cross Validation \n",
        "    kfold = KFold(n_splits=k, shuffle=True)\n",
        "    history['mse_train'] = 0\n",
        "    history['mse_test'] = 0\n",
        "    history['mae_train'] = 0\n",
        "    history['mae_test'] = 0\n",
        "    history['y_pred_train'] = {}\n",
        "    history['y_pred_test'] = {}\n",
        "    history['y_train'] = {}\n",
        "    history['y_test'] = {}\n",
        "\n",
        "    for fold, indices in enumerate(kfold.split(X)):\n",
        "        train_index, test_index = indices\n",
        "        X_train, X_test = X[train_index], X[test_index]\n",
        "        y_train, y_test = y[train_index], y[test_index]\n",
        "        model.fit(X_train, y_train)\n",
        "        y_pred_train = model.predict(X_train)\n",
        "        y_pred_test = model.predict(X_test)\n",
        "        history['mse_train'] += mean_squared_error(y_train, y_pred_train)\n",
        "        history['mse_test'] += mean_squared_error(y_test, y_pred_test)\n",
        "        history['mae_train'] += mean_absolute_error(y_train, y_pred_train)\n",
        "        history['mae_test'] += mean_absolute_error(y_test, y_pred_test)\n",
        "        history['y_pred_train'][fold] = y_pred_train\n",
        "        history['y_pred_test'][fold] = y_pred_test\n",
        "        history['y_train'][fold] = y_train\n",
        "        history['y_test'][fold] = y_test\n",
        "    \n",
        "    history['mse_train'] /= k\n",
        "    history['mse_test'] /= k\n",
        "    history['mae_train'] /= k\n",
        "    history['mae_test'] /= k\n",
        "\n",
        "    return history \n",
        "\n",
        "def train_grid(model, parameters, X, y, k=5): \n",
        "    grid = GridSearchCV(model, param_grid=parameters, n_jobs=4, cv=k)\n",
        "    grid.fit(X, y)\n",
        "    best_params = grid.best_params_\n",
        "\n",
        "    return best_params \n",
        "    "
      ],
      "execution_count": 257,
      "outputs": []
    },
    {
      "cell_type": "markdown",
      "metadata": {
        "id": "agAI3Te_fXtP"
      },
      "source": [
        "### Dimensionality REduction \n",
        "We tried different values of PCA  4 is the best value with an explained variance ration of array([0.28414794, 0.2081375 , 0.13753728])\n",
        "\n",
        "### HyperParameter Tuning\n",
        "\n",
        "1. Linear Regression: None ASIS\n",
        "2. KNN: n_neighbors\n",
        "3. LinearSVM: \n",
        "    - Dual=False: Select the algorithm to either solve the dual or primal optimization problem. Prefer dual=False when n_samples > n_features.\n",
        "    - C Tune with GridSearch\n",
        "    - Epsilon tune with GridSearch\n",
        "\n",
        "4. MLP \n",
        "    - hidden_layer_sizes\n",
        "    - solver  => adam (sgd causes inf)\n",
        "    - alpha => BESTY LOWER\n",
        "    - learning_rate_init \n",
        "    - learning_rate\n",
        "    - n_iter => big and apply early_stopping\n",
        "\n",
        "5. RandomForest \n",
        "    - max_depth\n",
        "    - n_estimators \n",
        "    - min_samples_leaf\n"
      ]
    },
    {
      "cell_type": "code",
      "metadata": {
        "colab": {
          "base_uri": "https://localhost:8080/"
        },
        "id": "eccfNhZns5N6",
        "outputId": "61b6628e-2020-477d-ee79-69854e52cc97"
      },
      "source": [
        "np.linspace(2, 50, 49)"
      ],
      "execution_count": 183,
      "outputs": [
        {
          "output_type": "execute_result",
          "data": {
            "text/plain": [
              "array([ 2.,  3.,  4.,  5.,  6.,  7.,  8.,  9., 10., 11., 12., 13., 14.,\n",
              "       15., 16., 17., 18., 19., 20., 21., 22., 23., 24., 25., 26., 27.,\n",
              "       28., 29., 30., 31., 32., 33., 34., 35., 36., 37., 38., 39., 40.,\n",
              "       41., 42., 43., 44., 45., 46., 47., 48., 49., 50.])"
            ]
          },
          "metadata": {
            "tags": []
          },
          "execution_count": 183
        }
      ]
    },
    {
      "cell_type": "code",
      "metadata": {
        "id": "lIpEP-vSQt-k",
        "colab": {
          "base_uri": "https://localhost:8080/"
        },
        "outputId": "c37b295b-e880-4ba1-f160-6b18740e836b"
      },
      "source": [
        "\n",
        "models = {'LinearRegression' : LinearRegression(), 'KNN' : KNeighborsRegressor(),\n",
        "           'LinearSVM' : LinearSVR(), 'MLP' : MLPRegressor(), 'RandomForest' : RandomForestRegressor()}\n",
        "\n",
        "parameters = [None, {'n_neighbors': np.linspace(2, 50, 49).astype(np.int32)}, \n",
        "              {'C' : [0.1, 10, 100, 500, 800, 1000, 1500,  2000, 5000], 'epsilon' : [0, 0.05, 0.1, 10, 100, 1000, 2500, 5000]},\n",
        "              {'hidden_layer_sizes': [[100, 100, 100], [5000], [50, 50, 50, 50]], 'alpha' : [0.001], 'max_iter' : [100, 200, 500]},  \n",
        "              {'max_depth' : [1, 2, 5, 10, 100, 500, None], 'n_estimators' : [10, 25, 50, 100], \n",
        "                     'min_samples_leaf' : [1, 5, 10, 15]}]\n",
        "\n",
        "history = {}\n",
        "# Dimensionality Reduction \n",
        "pca = PCA(n_components=4)\n",
        "X = pca.fit_transform(X)\n",
        "# Search best parameters \n",
        "best_params = {}\n",
        "for p, key in zip(parameters, models.keys()):\n",
        "    print('Searching best parameters', key)\n",
        "    if p:\n",
        "        best_params[key] = train_grid(models[key], p, X, y)\n",
        "    else:\n",
        "        best_params[key] = None\n",
        " \n"
      ],
      "execution_count": 244,
      "outputs": [
        {
          "output_type": "stream",
          "text": [
            "Searching best parameters LinearRegression\n",
            "Searching best parameters KNN\n",
            "Searching best parameters LinearSVM\n",
            "Searching best parameters MLP\n"
          ],
          "name": "stdout"
        },
        {
          "output_type": "stream",
          "text": [
            "/usr/local/lib/python3.6/dist-packages/sklearn/neural_network/_multilayer_perceptron.py:571: ConvergenceWarning: Stochastic Optimizer: Maximum iterations (200) reached and the optimization hasn't converged yet.\n",
            "  % self.max_iter, ConvergenceWarning)\n"
          ],
          "name": "stderr"
        },
        {
          "output_type": "stream",
          "text": [
            "Searching best parameters RandomForest\n"
          ],
          "name": "stdout"
        }
      ]
    },
    {
      "cell_type": "code",
      "metadata": {
        "colab": {
          "base_uri": "https://localhost:8080/"
        },
        "id": "2-1FmCjpsx-F",
        "outputId": "6a5fd7c7-1344-45cc-c01b-f166e96f15ce"
      },
      "source": [
        "best_params"
      ],
      "execution_count": 245,
      "outputs": [
        {
          "output_type": "execute_result",
          "data": {
            "text/plain": [
              "{'KNN': {'n_neighbors': 38},\n",
              " 'LinearRegression': None,\n",
              " 'LinearSVM': {'C': 800, 'epsilon': 1000},\n",
              " 'MLP': {'alpha': 0.001,\n",
              "  'hidden_layer_sizes': [50, 50, 50, 50],\n",
              "  'max_iter': 200},\n",
              " 'RandomForest': {'max_depth': None,\n",
              "  'min_samples_leaf': 1,\n",
              "  'n_estimators': 100}}"
            ]
          },
          "metadata": {
            "tags": []
          },
          "execution_count": 245
        }
      ]
    },
    {
      "cell_type": "code",
      "metadata": {
        "colab": {
          "base_uri": "https://localhost:8080/"
        },
        "id": "6SAbpq_oqR0x",
        "outputId": "6e161720-506d-495f-9b34-d4513ff43a98"
      },
      "source": [
        "for key in models.keys():\n",
        "    print('Training model', key)\n",
        "    if best_params[key]: \n",
        "        models[key].set_params(**best_params[key])\n",
        "    history[key] = train_model(models[key], X, y)"
      ],
      "execution_count": 258,
      "outputs": [
        {
          "output_type": "stream",
          "text": [
            "Training model LinearRegression\n",
            "Training model KNN\n",
            "Training model LinearSVM\n",
            "Training model MLP\n"
          ],
          "name": "stdout"
        },
        {
          "output_type": "stream",
          "text": [
            "/usr/local/lib/python3.6/dist-packages/sklearn/neural_network/_multilayer_perceptron.py:571: ConvergenceWarning: Stochastic Optimizer: Maximum iterations (200) reached and the optimization hasn't converged yet.\n",
            "  % self.max_iter, ConvergenceWarning)\n",
            "/usr/local/lib/python3.6/dist-packages/sklearn/neural_network/_multilayer_perceptron.py:571: ConvergenceWarning: Stochastic Optimizer: Maximum iterations (200) reached and the optimization hasn't converged yet.\n",
            "  % self.max_iter, ConvergenceWarning)\n",
            "/usr/local/lib/python3.6/dist-packages/sklearn/neural_network/_multilayer_perceptron.py:571: ConvergenceWarning: Stochastic Optimizer: Maximum iterations (200) reached and the optimization hasn't converged yet.\n",
            "  % self.max_iter, ConvergenceWarning)\n",
            "/usr/local/lib/python3.6/dist-packages/sklearn/neural_network/_multilayer_perceptron.py:571: ConvergenceWarning: Stochastic Optimizer: Maximum iterations (200) reached and the optimization hasn't converged yet.\n",
            "  % self.max_iter, ConvergenceWarning)\n",
            "/usr/local/lib/python3.6/dist-packages/sklearn/neural_network/_multilayer_perceptron.py:571: ConvergenceWarning: Stochastic Optimizer: Maximum iterations (200) reached and the optimization hasn't converged yet.\n",
            "  % self.max_iter, ConvergenceWarning)\n"
          ],
          "name": "stderr"
        },
        {
          "output_type": "stream",
          "text": [
            "Training model RandomForest\n"
          ],
          "name": "stdout"
        }
      ]
    },
    {
      "cell_type": "code",
      "metadata": {
        "colab": {
          "base_uri": "https://localhost:8080/",
          "height": 265
        },
        "id": "XiDYYTwrXykv",
        "outputId": "6818d267-59c8-4cdb-bcd8-1e03c6c43d23"
      },
      "source": [
        "mae_train = np.array([[key, history[key]['mae_train']] for key in models.keys()])\n",
        "mae_test = np.array([[key, history[key]['mae_test']] for key in models.keys()])\n",
        "\n",
        "x_length = range(len(mae_test))\n",
        "plt.plot(x_length, mae_test[:, 1].astype(np.float32), '.', label='MAE Test')\n",
        "plt.plot(x_length, mae_train[:, 1].astype(np.float32), '.', label='MAE Train')\n",
        "plt.legend(loc='lower left')\n",
        "plt.xticks(x_length, mae_test[:, 0])\n",
        "plt.show()"
      ],
      "execution_count": 247,
      "outputs": [
        {
          "output_type": "display_data",
          "data": {
            "image/png": "[encoded data removed]",
            "text/plain": [
              "<Figure size 432x288 with 1 Axes>"
            ]
          },
          "metadata": {
            "tags": [],
            "needs_background": "light"
          }
        }
      ]
    },
    {
      "cell_type": "code",
      "metadata": {
        "colab": {
          "base_uri": "https://localhost:8080/",
          "height": 276
        },
        "id": "lMffw8cwYesR",
        "outputId": "9ee1f7d1-2714-45a2-9131-231d5109a006"
      },
      "source": [
        "mse_train = np.array([[key, history[key]['mse_train']] for key in models.keys()])\n",
        "mse_test = np.array([[key, history[key]['mse_test']] for key in models.keys()])\n",
        "\n",
        "x_length = range(len(mae_test))\n",
        "plt.plot(x_length, mse_test[:, 1].astype(np.float32), '.', label='MSE Test')\n",
        "plt.plot(x_length, mse_train[:, 1].astype(np.float32), '.', label='MSE Train')\n",
        "plt.legend(loc='lower left')\n",
        "plt.xticks(x_length, mae_test[:, 0])\n",
        "plt.show()"
      ],
      "execution_count": 248,
      "outputs": [
        {
          "output_type": "display_data",
          "data": {
            "image/png": "[encoded data removed]",
            "text/plain": [
              "<Figure size 432x288 with 1 Axes>"
            ]
          },
          "metadata": {
            "tags": [],
            "needs_background": "light"
          }
        }
      ]
    },
    {
      "cell_type": "code",
      "metadata": {
        "colab": {
          "base_uri": "https://localhost:8080/",
          "height": 265
        },
        "id": "e6IqFScEZpau",
        "outputId": "511028f2-c237-4b76-b0bf-94ebdab9da55"
      },
      "source": [
        "plt.hist(history['MLP']['y_test'][2] - history['MLP']['y_pred_test'][2])\n",
        "plt.show()"
      ],
      "execution_count": 264,
      "outputs": [
        {
          "output_type": "display_data",
          "data": {
            "image/png": "[encoded data removed]",
            "text/plain": [
              "<Figure size 432x288 with 1 Axes>"
            ]
          },
          "metadata": {
            "tags": [],
            "needs_background": "light"
          }
        }
      ]
    },
    {
      "cell_type": "code",
      "metadata": {
        "colab": {
          "base_uri": "https://localhost:8080/",
          "height": 265
        },
        "id": "YAatJ_wvaCst",
        "outputId": "530bcb60-d1ad-45c1-c3bd-b63948885796"
      },
      "source": [
        "plt.hist(history['RandomForest']['y_test'][0] - history['RandomForest']['y_pred_test'][0])\n",
        "plt.show()"
      ],
      "execution_count": 261,
      "outputs": [
        {
          "output_type": "display_data",
          "data": {
            "image/png": "[encoded data removed]",
            "text/plain": [
              "<Figure size 432x288 with 1 Axes>"
            ]
          },
          "metadata": {
            "tags": [],
            "needs_background": "light"
          }
        }
      ]
    },
    {
      "cell_type": "code",
      "metadata": {
        "id": "2xLcxRpd27Z1"
      },
      "source": [
        ""
      ],
      "execution_count": null,
      "outputs": []
    }
  ]
}